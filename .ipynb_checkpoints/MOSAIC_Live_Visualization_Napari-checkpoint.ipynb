{
 "cells": [
  {
   "cell_type": "code",
   "execution_count": null,
   "id": "70c0d910-e94b-47a5-9011-525e3a7fa8e7",
   "metadata": {},
   "outputs": [],
   "source": [
    "from livelattice.napari_live import *\n",
    "import time\n",
    "import sys\n",
    "from PyQt5.QtWidgets import QFileDialog, QApplication\n",
    "\n",
    "%load_ext autoreload\n",
    "%autoreload 2"
   ]
  },
  {
   "cell_type": "code",
   "execution_count": null,
   "id": "30102354-bd8e-434a-8570-1a01625b3e21",
   "metadata": {
    "scrolled": true
   },
   "outputs": [],
   "source": [
    "auto_detect_psf = True\n",
    "number_of_dates = 1\n",
    "\n",
    "# Linux\n",
    "root_path = '/run/user/1000/gvfs/smb-share:server=taurus0.jslab.ucsd.edu,share=data/MOSAIC_Data/Data/'\n",
    "output_path = '/run/user/1000/gvfs/smb-share:server=taurus0.jslab.ucsd.edu,share=processing/MOSAIC_Data/Processed_Data/'\n",
    "\n",
    "app = QApplication(sys.argv)\n",
    "all_data_path = []\n",
    "for index in range(number_of_dates):\n",
    "    data_path = QFileDialog.getExistingDirectory(None, \"Select data directory #\"+str(index+1)+\" ...\", root_path).split('/')[-1]\n",
    "    all_data_path.append(data_path)\n",
    "\n",
    "tif_path_list, save_path_list = collect_data_locations(root_path, all_data_path, output_path)\n",
    "\n",
    "specified_channels = None # overwrite wavelength, e.g. ['488', '642']\n",
    "selected_psf_path = None # 'None' for using automatic selection\n",
    "\n",
    "del app"
   ]
  },
  {
   "cell_type": "code",
   "execution_count": null,
   "id": "8d2772eb-f3f3-4c2d-9a70-a96df2b46fbe",
   "metadata": {},
   "outputs": [],
   "source": [
    "# select specific folders and/or frames within each folder to process\n",
    "# use None if to process all\n",
    "# index starts with 0\n",
    "folders_to_process = None\n",
    "frames_to_process = None\n",
    "\n",
    "# options\n",
    "use_dask_for_napari = False\n",
    "\n",
    "# select the type of data to visualize\n",
    "decon_deskew_rotate = True\n",
    "no_decon = False\n",
    "decon_only = False\n",
    "\n",
    "# start napari for this movie\n",
    "viewer = napari.Viewer(ndisplay=3)"
   ]
  },
  {
   "cell_type": "code",
   "execution_count": null,
   "id": "a0347767-b6e2-4304-b1b9-e6f11315dd45",
   "metadata": {},
   "outputs": [],
   "source": [
    "# visualize dataset\n",
    "print('Scanning the folder for images ...')\n",
    "live_napari = visualize_data_live(viewer, tif_path_list, save_path_list,\n",
    "                                  folders_to_process, frames_to_process,\n",
    "                                  use_dask_for_napari,\n",
    "                                  decon_deskew_rotate, no_decon, decon_only)"
   ]
  }
 ],
 "metadata": {
  "kernelspec": {
   "display_name": "Python 3 (ipykernel)",
   "language": "python",
   "name": "python3"
  },
  "language_info": {
   "codemirror_mode": {
    "name": "ipython",
    "version": 3
   },
   "file_extension": ".py",
   "mimetype": "text/x-python",
   "name": "python",
   "nbconvert_exporter": "python",
   "pygments_lexer": "ipython3",
   "version": "3.10.14"
  }
 },
 "nbformat": 4,
 "nbformat_minor": 5
}
