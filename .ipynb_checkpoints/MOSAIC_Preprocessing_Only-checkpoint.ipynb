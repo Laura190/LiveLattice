{
 "cells": [
  {
   "cell_type": "markdown",
   "id": "6a0ee980",
   "metadata": {},
   "source": [
    "### Import package"
   ]
  },
  {
   "cell_type": "code",
   "execution_count": null,
   "id": "a565967f",
   "metadata": {},
   "outputs": [],
   "source": [
    "from livelattice.processing import *\n",
    "from livelattice.pipeline import *\n",
    "import sys\n",
    "from PyQt5.QtWidgets import QFileDialog, QApplication\n",
    "\n",
    "%load_ext autoreload\n",
    "%autoreload 2"
   ]
  },
  {
   "cell_type": "markdown",
   "id": "98b5158a",
   "metadata": {},
   "source": [
    "### Select the folders to process using automatic PSF detection"
   ]
  },
  {
   "cell_type": "code",
   "execution_count": null,
   "id": "32aa7bb8",
   "metadata": {
    "scrolled": true
   },
   "outputs": [],
   "source": [
    "number_of_dates = 1\n",
    "\n",
    "# Linux\n",
    "root_path = '/run/user/1000/gvfs/smb-share:server=taurus0.jslab.ucsd.edu,share=data/MOSAIC_Data/Data/'\n",
    "output_path = '/run/user/1000/gvfs/smb-share:server=taurus0.jslab.ucsd.edu,share=processing/MOSAIC_Data/Processed_Data/'\n",
    "\n",
    "app = QApplication(sys.argv)\n",
    "all_data_path = []\n",
    "for index in range(number_of_dates):\n",
    "    data_path = QFileDialog.getExistingDirectory(None, \"Select data directory #\"+str(index+1)+\" ...\", root_path).split('/')[-1]\n",
    "    all_data_path.append(data_path)\n",
    "\n",
    "tif_path_list, save_path_list = collect_data_locations(root_path, all_data_path, output_path)\n",
    "\n",
    "specified_channels = None # None for auto detection, use a list of wave numbers (string) if to manually specify, e.g. ['488', '642']\n",
    "\n",
    "selected_psf_path = None # None for auto detection, use a list of PSF paths if to manually specify\n",
    "\n",
    "del app"
   ]
  },
  {
   "cell_type": "markdown",
   "id": "fde20aa0",
   "metadata": {},
   "source": [
    "### Set parameters and process the movies"
   ]
  },
  {
   "cell_type": "code",
   "execution_count": null,
   "id": "dd7603b4",
   "metadata": {},
   "outputs": [],
   "source": [
    "# select specific folders and/or frames within each folder to process\n",
    "# use None if to process all\n",
    "# index starts with 0\n",
    "folders_to_process = None\n",
    "frames_to_process = None\n",
    "\n",
    "# options\n",
    "save_mip = True # whether to create the MIP folder with individual and combined MIP images\n",
    "overwrite_file = True # whether to overwrite exisiting files, use False if continue previous run\n",
    "use_dask = False\n",
    "\n",
    "# select operations to perform\n",
    "num_decon_it = 15\n",
    "decon_zsection_size = 400 # to avoid memory overflow, may lower if deconvolution is slow\n",
    "decon_deskew_rotate = True\n",
    "no_decon = False\n",
    "decon_only = False\n",
    "\n",
    "# run the processing\n",
    "process_data(tif_path_list, save_path_list,\n",
    "             specified_channels, selected_psf_path,\n",
    "             folders_to_process, frames_to_process,\n",
    "             save_mip, overwrite_file, use_dask,\n",
    "             num_decon_it, decon_zsection_size, \n",
    "             decon_deskew_rotate, no_decon, decon_only)"
   ]
  }
 ],
 "metadata": {
  "kernelspec": {
   "display_name": "Python 3 (ipykernel)",
   "language": "python",
   "name": "python3"
  },
  "language_info": {
   "codemirror_mode": {
    "name": "ipython",
    "version": 3
   },
   "file_extension": ".py",
   "mimetype": "text/x-python",
   "name": "python",
   "nbconvert_exporter": "python",
   "pygments_lexer": "ipython3",
   "version": "3.10.14"
  }
 },
 "nbformat": 4,
 "nbformat_minor": 5
}
