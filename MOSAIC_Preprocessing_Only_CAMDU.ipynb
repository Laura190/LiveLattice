{
 "cells": [
  {
   "cell_type": "markdown",
   "id": "6a0ee980",
   "metadata": {},
   "source": [
    "### Import package"
   ]
  },
  {
   "cell_type": "code",
   "execution_count": 24,
   "id": "a565967f",
   "metadata": {},
   "outputs": [
    {
     "name": "stdout",
     "output_type": "stream",
     "text": [
      "The autoreload extension is already loaded. To reload it, use:\n",
      "  %reload_ext autoreload\n"
     ]
    }
   ],
   "source": [
    "#LiveLattice\n",
    "from livelattice.processing import *\n",
    "from livelattice.pipeline import *\n",
    "import sys\n",
    "from PyQt5.QtWidgets import QFileDialog, QApplication\n",
    "\n",
    "%load_ext autoreload\n",
    "%autoreload 2\n",
    "#CAMDU\n",
    "import tifffile\n",
    "import napari"
   ]
  },
  {
   "cell_type": "markdown",
   "id": "98b5158a",
   "metadata": {},
   "source": [
    "### Select the folders to process using automatic PSF detection"
   ]
  },
  {
   "cell_type": "code",
   "execution_count": 27,
   "id": "32aa7bb8",
   "metadata": {
    "scrolled": true
   },
   "outputs": [],
   "source": [
    "#number_of_dates = 1\n",
    "\n",
    "# Linux\n",
    "#root_path = '/run/user/1000/gvfs/smb-share:server=taurus0.jslab.ucsd.edu,share=data/MOSAIC_Data/Data/'\n",
    "#output_path = '/run/user/1000/gvfs/smb-share:server=taurus0.jslab.ucsd.edu,share=processing/MOSAIC_Data/Processed_Data/'\n",
    "\n",
    "#app = QApplication(sys.argv)\n",
    "#all_data_path = []\n",
    "#for index in range(number_of_dates):\n",
    "#    data_path = QFileDialog.getExistingDirectory(None, \"Select data directory #\"+str(index+1)+\" ...\", root_path).split('/')[-1]\n",
    "#    all_data_path.append(data_path)\n",
    "\n",
    "#tif_path_list, save_path_list = collect_data_locations(root_path, all_data_path, output_path)\n",
    "\n",
    "#specified_channels = None # None for auto detection, use a list of wave numbers (string) if to manually specify, e.g. ['488', '642']\n",
    "\n",
    "#selected_psf_path = None # None for auto detection, use a list of PSF paths if to manually specify\n",
    "\n",
    "#del app\n",
    "image_path='E:\\LauraCooper\\MWA\\Raw-data-example-5D.sld - Raw_data_slide3_capture12-1.tif'\n",
    "image=tifffile.imread(image_path)\n",
    "psf_path='E:\\LauraCooper\\MWA\\PSFs-as-tiffs\\\\2024-09-13_PSF_488.tif'\n",
    "psf_stack=tifffile.imread(psf_path)\n",
    "viewer = napari.Viewer()\n",
    "viewer.add_image(image, name='image', colormap='gray')\n",
    "napari.run()"
   ]
  },
  {
   "cell_type": "markdown",
   "id": "fde20aa0",
   "metadata": {},
   "source": [
    "### Set parameters and process the movies"
   ]
  },
  {
   "cell_type": "code",
   "execution_count": 11,
   "id": "dd7603b4",
   "metadata": {},
   "outputs": [],
   "source": [
    "# select specific folders and/or frames within each folder to process\n",
    "# use None if to process all\n",
    "# index starts with 0\n",
    "folders_to_process = None\n",
    "frames_to_process = None\n",
    "\n",
    "# options\n",
    "save_mip = True # whether to create the MIP folder with individual and combined MIP images\n",
    "overwrite_file = True # whether to overwrite exisiting files, use False if continue previous run\n",
    "use_dask = False\n",
    "\n",
    "# select operations to perform\n",
    "num_decon_it = 15\n",
    "decon_zsection_size = 400 # to avoid memory overflow, may lower if deconvolution is slow\n",
    "decon_deskew_rotate = True\n",
    "no_decon = False\n",
    "decon_only = False\n",
    "\n",
    "# run the processing\n",
    "#process_data(tif_path_list, save_path_list,\n",
    "#             specified_channels, selected_psf_path,\n",
    "#             folders_to_process, frames_to_process,\n",
    "#             save_mip, overwrite_file, use_dask,\n",
    "#             num_decon_it, decon_zsection_size, \n",
    "#             decon_deskew_rotate, no_decon, decon_only)\n",
    "processing = image"
   ]
  },
  {
   "cell_type": "code",
   "execution_count": 21,
   "id": "8a07f010-2e15-4512-b01e-632dbcc4e534",
   "metadata": {},
   "outputs": [
    {
     "name": "stdout",
     "output_type": "stream",
     "text": [
      "\n",
      "Deconvolution starts for z-section 1\n"
     ]
    }
   ],
   "source": [
    "t1 = time.time()\n",
    "num_zsections = 0\n",
    "if image.shape[0] % decon_zsection_size == 0:\n",
    "    num_zsections = int(image.shape[0] / decon_zsection_size)\n",
    "else:\n",
    "    num_zsections = int(image.shape[0] / decon_zsection_size) + 1\n",
    "\n",
    "pad_size = int(0.1*decon_zsection_size)\n",
    "start_z = pad_size\n",
    "full_deconv = None\n",
    "\n",
    "for ind_z in range(num_zsections):\n",
    "      \n",
    "    section = processing[start_z-pad_size:start_z+decon_zsection_size+pad_size]\n",
    "    if section.shape[0] < pad_size:\n",
    "        break\n",
    "                \n",
    "    print('\\nDeconvolution starts for z-section', ind_z+1)\n",
    "    with TemporaryOTF(psf=psf_path, dzpsf=dzpsf, dxpsf=dxpsf, fixorigin=0, otf_bgrd=0, max_otf_size=None, skewed_decon=True) as otf:\n",
    "        with RLContext(section.shape, otf.path, dzdata, dxdata, dzpsf, dxpsf, skewed_decon=True) as ctx:\n",
    "                \n",
    "            section_deconv = rl_decon(section, background=0, n_iters=num_decon_it, skewed_decon=True)\n",
    "\n",
    "            # to avoid boundary effect due to partitioning in all x,y,z, we divide only z in blocks for large dataset\n",
    "            if start_z == pad_size:\n",
    "                full_deconv = section_deconv[:pad_size+decon_zsection_size]\n",
    "            else:\n",
    "                full_deconv = np.concatenate([full_deconv, section_deconv[pad_size:pad_size+decon_zsection_size]])\n",
    "\n",
    "            start_z += decon_zsection_size\n",
    "                    \n",
    "    #processing = full_deconv.astype('uint16')"
   ]
  },
  {
   "cell_type": "code",
   "execution_count": 25,
   "id": "b5dc5674-62be-4829-9a2a-33e86023952c",
   "metadata": {},
   "outputs": [],
   "source": [
    "viewer = napari.Viewer()\n",
    "viewer.add_image(full_deconv, name='deconv', colormap='gray')\n",
    "napari.run()"
   ]
  },
  {
   "cell_type": "code",
   "execution_count": 45,
   "id": "896a057d-fecb-4af0-8641-c6103445b6d4",
   "metadata": {},
   "outputs": [
    {
     "name": "stdout",
     "output_type": "stream",
     "text": [
      "(60, 256, 324)\n",
      "(324, 256, 60)\n",
      "(628, 256, 60)\n",
      "(334, 256, 818)\n",
      "(334, 256, 818)\n"
     ]
    }
   ],
   "source": [
    "angle =32\n",
    "dzdata=0.5\n",
    "dxdata=0.104\n",
    "\n",
    "print(full_deconv.shape)\n",
    "processing = cupy.asarray(full_deconv)\n",
    "\n",
    "# Step 1\n",
    "swapped = cupy.swapaxes(processing, 0, 2)\n",
    "print(swapped.shape)\n",
    "rotated = cupy.flip(swapped, 0)\n",
    "\n",
    "# Pad to avoid cropping during transform\n",
    "angle_rad = angle * np.pi / 180.0\n",
    "pad_z = int(rotated.shape[0] * (1 - np.sin(angle_rad)))\n",
    "pad_width = [(pad_z, pad_z), (0, 0), (0, 0)]\n",
    "padded = np.pad(rotated, pad_width, mode='constant', constant_values=0)\n",
    "print(padded.shape)\n",
    "# Step 2\n",
    "transformed = scale_and_shear_cupy(padded, angle, dzdata, dxdata)\n",
    "print(transformed.shape)\n",
    "\n",
    "# move to CPU memory\n",
    "deskew = cupy.asnumpy(transformed)\n",
    "print(deskew.shape)"
   ]
  },
  {
   "cell_type": "code",
   "execution_count": 46,
   "id": "facc3335-a959-4ce9-b59a-9be8be087ef0",
   "metadata": {},
   "outputs": [],
   "source": [
    "viewer = napari.Viewer()\n",
    "viewer.add_image(deskew, name='deskew', colormap='gray')\n",
    "napari.run()"
   ]
  },
  {
   "cell_type": "code",
   "execution_count": null,
   "id": "47ab7bab-e178-4801-9dac-e62456153e01",
   "metadata": {},
   "outputs": [],
   "source": []
  }
 ],
 "metadata": {
  "kernelspec": {
   "display_name": "Python 3 (ipykernel)",
   "language": "python",
   "name": "python3"
  },
  "language_info": {
   "codemirror_mode": {
    "name": "ipython",
    "version": 3
   },
   "file_extension": ".py",
   "mimetype": "text/x-python",
   "name": "python",
   "nbconvert_exporter": "python",
   "pygments_lexer": "ipython3",
   "version": "3.10.17"
  }
 },
 "nbformat": 4,
 "nbformat_minor": 5
}
