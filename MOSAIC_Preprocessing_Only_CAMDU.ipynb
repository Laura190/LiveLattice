{
 "cells": [
  {
   "cell_type": "markdown",
   "id": "6a0ee980",
   "metadata": {},
   "source": [
    "### Import package"
   ]
  },
  {
   "cell_type": "code",
   "execution_count": 1,
   "id": "a565967f",
   "metadata": {},
   "outputs": [
    {
     "name": "stdout",
     "output_type": "stream",
     "text": [
      "rmm not available\n"
     ]
    },
    {
     "name": "stderr",
     "output_type": "stream",
     "text": [
      "E:\\LauraCooper\\livelattice-env\\lib\\site-packages\\pycudadecon\\_libwrap.py:45: UserWarning: Unable to find function: camcor_interface_init in libcudaDecon\n",
      "  def camcor_interface_init(  # type: ignore [empty-body]\n",
      "E:\\LauraCooper\\livelattice-env\\lib\\site-packages\\pycudadecon\\_libwrap.py:52: UserWarning: Unable to find function: camcor_interface in libcudaDecon\n",
      "  def camcor_interface(  # type: ignore [empty-body]\n"
     ]
    }
   ],
   "source": [
    "#LiveLattice\n",
    "from livelattice.processing import *\n",
    "from livelattice.pipeline import *\n",
    "import sys\n",
    "from PyQt5.QtWidgets import QFileDialog, QApplication\n",
    "\n",
    "%load_ext autoreload\n",
    "%autoreload 2\n",
    "#CAMDU\n",
    "import tifffile\n",
    "import napari"
   ]
  },
  {
   "cell_type": "markdown",
   "id": "98b5158a",
   "metadata": {},
   "source": [
    "### Select the folders to process using automatic PSF detection"
   ]
  },
  {
   "cell_type": "code",
   "execution_count": 111,
   "id": "32aa7bb8",
   "metadata": {
    "scrolled": true
   },
   "outputs": [],
   "source": [
    "#number_of_dates = 1\n",
    "\n",
    "# Linux\n",
    "#root_path = '/run/user/1000/gvfs/smb-share:server=taurus0.jslab.ucsd.edu,share=data/MOSAIC_Data/Data/'\n",
    "#output_path = '/run/user/1000/gvfs/smb-share:server=taurus0.jslab.ucsd.edu,share=processing/MOSAIC_Data/Processed_Data/'\n",
    "\n",
    "#app = QApplication(sys.argv)\n",
    "#all_data_path = []\n",
    "#for index in range(number_of_dates):\n",
    "#    data_path = QFileDialog.getExistingDirectory(None, \"Select data directory #\"+str(index+1)+\" ...\", root_path).split('/')[-1]\n",
    "#    all_data_path.append(data_path)\n",
    "\n",
    "#tif_path_list, save_path_list = collect_data_locations(root_path, all_data_path, output_path)\n",
    "\n",
    "#specified_channels = None # None for auto detection, use a list of wave numbers (string) if to manually specify, e.g. ['488', '642']\n",
    "\n",
    "#selected_psf_path = None # None for auto detection, use a list of PSF paths if to manually specify\n",
    "\n",
    "#del app\n",
    "image_path='E:\\LauraCooper\\MWA\\Raw-data-example-5D.sld - Raw_data_slide3_capture12-1.tif'\n",
    "image_path='E:\\LauraCooper\\MWA\\Raw-data-example-5D.sld - Raw_data_slide3_capture12-1 every4thslice.tif'\n",
    "image=tifffile.imread(image_path)\n",
    "psf_path='E:\\LauraCooper\\MWA\\PSFs-as-tiffs\\\\2024-09-13_PSF_488.tif'\n",
    "psf_stack=tifffile.imread(psf_path)\n",
    "viewer = napari.Viewer()\n",
    "viewer.add_image(image, name='image', colormap='gray')\n",
    "napari.run()"
   ]
  },
  {
   "cell_type": "markdown",
   "id": "fde20aa0",
   "metadata": {},
   "source": [
    "### Set parameters and process the movies"
   ]
  },
  {
   "cell_type": "code",
   "execution_count": 112,
   "id": "dd7603b4",
   "metadata": {},
   "outputs": [],
   "source": [
    "# select specific folders and/or frames within each folder to process\n",
    "# use None if to process all\n",
    "# index starts with 0\n",
    "folders_to_process = None\n",
    "frames_to_process = None\n",
    "\n",
    "# options\n",
    "save_mip = True # whether to create the MIP folder with individual and combined MIP images\n",
    "overwrite_file = True # whether to overwrite exisiting files, use False if continue previous run\n",
    "use_dask = False\n",
    "\n",
    "# select operations to perform\n",
    "num_decon_it = 15\n",
    "decon_zsection_size = 400 # to avoid memory overflow, may lower if deconvolution is slow\n",
    "decon_deskew_rotate = True\n",
    "no_decon = False\n",
    "decon_only = False\n",
    "\n",
    "# run the processing\n",
    "#process_data(tif_path_list, save_path_list,\n",
    "#             specified_channels, selected_psf_path,\n",
    "#             folders_to_process, frames_to_process,\n",
    "#             save_mip, overwrite_file, use_dask,\n",
    "#             num_decon_it, decon_zsection_size, \n",
    "#             decon_deskew_rotate, no_decon, decon_only)\n",
    "processing = image"
   ]
  },
  {
   "cell_type": "code",
   "execution_count": 113,
   "id": "8a07f010-2e15-4512-b01e-632dbcc4e534",
   "metadata": {},
   "outputs": [],
   "source": [
    "t1 = time.time()\n",
    "num_zsections = 0\n",
    "if image.shape[0] % decon_zsection_size == 0:\n",
    "    num_zsections = int(image.shape[0] / decon_zsection_size)\n",
    "else:\n",
    "    num_zsections = int(image.shape[0] / decon_zsection_size) + 1\n",
    "\n",
    "pad_size = int(0.1*decon_zsection_size)\n",
    "start_z = pad_size\n",
    "full_deconv = None\n",
    "\n",
    "for ind_z in range(num_zsections):\n",
    "      \n",
    "    section = processing[start_z-pad_size:start_z+decon_zsection_size+pad_size]\n",
    "    if section.shape[0] < pad_size:\n",
    "        break\n",
    "                \n",
    "    print('\\nDeconvolution starts for z-section', ind_z+1)\n",
    "    with TemporaryOTF(psf=psf_path, dzpsf=dzpsf, dxpsf=dxpsf, fixorigin=0, otf_bgrd=0, max_otf_size=None, skewed_decon=True) as otf:\n",
    "        with RLContext(section.shape, otf.path, dzdata, dxdata, dzpsf, dxpsf, skewed_decon=True) as ctx:\n",
    "                \n",
    "            section_deconv = rl_decon(section, background=0, n_iters=num_decon_it, skewed_decon=True)\n",
    "\n",
    "            # to avoid boundary effect due to partitioning in all x,y,z, we divide only z in blocks for large dataset\n",
    "            if start_z == pad_size:\n",
    "                full_deconv = section_deconv[:pad_size+decon_zsection_size]\n",
    "            else:\n",
    "                full_deconv = np.concatenate([full_deconv, section_deconv[pad_size:pad_size+decon_zsection_size]])\n",
    "\n",
    "            start_z += decon_zsection_size\n",
    "                    \n",
    "    #processing = full_deconv.astype('uint16')"
   ]
  },
  {
   "cell_type": "code",
   "execution_count": 114,
   "id": "b5dc5674-62be-4829-9a2a-33e86023952c",
   "metadata": {},
   "outputs": [
    {
     "ename": "TypeError",
     "evalue": "'NoneType' object is not subscriptable",
     "output_type": "error",
     "traceback": [
      "\u001b[1;31m---------------------------------------------------------------------------\u001b[0m",
      "\u001b[1;31mTypeError\u001b[0m                                 Traceback (most recent call last)",
      "Cell \u001b[1;32mIn[114], line 2\u001b[0m\n\u001b[0;32m      1\u001b[0m viewer \u001b[38;5;241m=\u001b[39m napari\u001b[38;5;241m.\u001b[39mViewer()\n\u001b[1;32m----> 2\u001b[0m \u001b[43mviewer\u001b[49m\u001b[38;5;241;43m.\u001b[39;49m\u001b[43madd_image\u001b[49m\u001b[43m(\u001b[49m\u001b[43mfull_deconv\u001b[49m\u001b[43m,\u001b[49m\u001b[43m \u001b[49m\u001b[43mname\u001b[49m\u001b[38;5;241;43m=\u001b[39;49m\u001b[38;5;124;43m'\u001b[39;49m\u001b[38;5;124;43mdeconv\u001b[39;49m\u001b[38;5;124;43m'\u001b[39;49m\u001b[43m,\u001b[49m\u001b[43m \u001b[49m\u001b[43mcolormap\u001b[49m\u001b[38;5;241;43m=\u001b[39;49m\u001b[38;5;124;43m'\u001b[39;49m\u001b[38;5;124;43mgray\u001b[39;49m\u001b[38;5;124;43m'\u001b[39;49m\u001b[43m)\u001b[49m\n\u001b[0;32m      3\u001b[0m napari\u001b[38;5;241m.\u001b[39mrun()\n",
      "File \u001b[1;32mE:\\LauraCooper\\livelattice-env\\lib\\site-packages\\napari\\components\\viewer_model.py:1210\u001b[0m, in \u001b[0;36mViewerModel.add_image\u001b[1;34m(self, data, channel_axis, affine, axis_labels, attenuation, blending, cache, colormap, contrast_limits, custom_interpolation_kernel_2d, depiction, experimental_clipping_planes, gamma, interpolation2d, interpolation3d, iso_threshold, metadata, multiscale, name, opacity, plane, projection_mode, rendering, rgb, rotate, scale, shear, translate, units, visible)\u001b[0m\n\u001b[0;32m   1202\u001b[0m     \u001b[38;5;28;01mif\u001b[39;00m k \u001b[38;5;129;01mnot\u001b[39;00m \u001b[38;5;129;01min\u001b[39;00m iterable_kwargs \u001b[38;5;129;01mand\u001b[39;00m is_sequence(v):\n\u001b[0;32m   1203\u001b[0m         \u001b[38;5;28;01mraise\u001b[39;00m \u001b[38;5;167;01mTypeError\u001b[39;00m(\n\u001b[0;32m   1204\u001b[0m             trans\u001b[38;5;241m.\u001b[39m_(\n\u001b[0;32m   1205\u001b[0m                 \u001b[38;5;124m\"\u001b[39m\u001b[38;5;124mReceived sequence for argument \u001b[39m\u001b[38;5;124m'\u001b[39m\u001b[38;5;132;01m{argument}\u001b[39;00m\u001b[38;5;124m'\u001b[39m\u001b[38;5;124m, did you mean to specify a \u001b[39m\u001b[38;5;124m'\u001b[39m\u001b[38;5;124mchannel_axis\u001b[39m\u001b[38;5;124m'\u001b[39m\u001b[38;5;124m? \u001b[39m\u001b[38;5;124m\"\u001b[39m,\n\u001b[1;32m   (...)\u001b[0m\n\u001b[0;32m   1208\u001b[0m             )\n\u001b[0;32m   1209\u001b[0m         )\n\u001b[1;32m-> 1210\u001b[0m layer \u001b[38;5;241m=\u001b[39m Image(data, \u001b[38;5;241m*\u001b[39m\u001b[38;5;241m*\u001b[39mkwargs)\n\u001b[0;32m   1211\u001b[0m \u001b[38;5;28mself\u001b[39m\u001b[38;5;241m.\u001b[39mlayers\u001b[38;5;241m.\u001b[39mappend(layer)\n\u001b[0;32m   1213\u001b[0m \u001b[38;5;28;01mreturn\u001b[39;00m layer\n",
      "File \u001b[1;32mE:\\LauraCooper\\livelattice-env\\lib\\site-packages\\napari\\layers\\base\\base.py:111\u001b[0m, in \u001b[0;36mPostInit.__call__\u001b[1;34m(self, *args, **kwargs)\u001b[0m\n\u001b[0;32m    110\u001b[0m \u001b[38;5;28;01mdef\u001b[39;00m\u001b[38;5;250m \u001b[39m\u001b[38;5;21m__call__\u001b[39m(\u001b[38;5;28mself\u001b[39m, \u001b[38;5;241m*\u001b[39margs, \u001b[38;5;241m*\u001b[39m\u001b[38;5;241m*\u001b[39mkwargs):\n\u001b[1;32m--> 111\u001b[0m     obj \u001b[38;5;241m=\u001b[39m \u001b[38;5;28msuper\u001b[39m()\u001b[38;5;241m.\u001b[39m\u001b[38;5;21m__call__\u001b[39m(\u001b[38;5;241m*\u001b[39margs, \u001b[38;5;241m*\u001b[39m\u001b[38;5;241m*\u001b[39mkwargs)\n\u001b[0;32m    112\u001b[0m     obj\u001b[38;5;241m.\u001b[39m_post_init()\n\u001b[0;32m    113\u001b[0m     \u001b[38;5;28;01mreturn\u001b[39;00m obj\n",
      "File \u001b[1;32mE:\\LauraCooper\\livelattice-env\\lib\\site-packages\\napari\\layers\\image\\image.py:259\u001b[0m, in \u001b[0;36mImage.__init__\u001b[1;34m(self, data, affine, attenuation, axis_labels, blending, cache, colormap, contrast_limits, custom_interpolation_kernel_2d, depiction, experimental_clipping_planes, gamma, interpolation2d, interpolation3d, iso_threshold, metadata, multiscale, name, opacity, plane, projection_mode, rendering, rgb, rotate, scale, shear, translate, units, visible)\u001b[0m\n\u001b[0;32m    225\u001b[0m \u001b[38;5;28;01mdef\u001b[39;00m\u001b[38;5;250m \u001b[39m\u001b[38;5;21m__init__\u001b[39m(\n\u001b[0;32m    226\u001b[0m     \u001b[38;5;28mself\u001b[39m,\n\u001b[0;32m    227\u001b[0m     data,\n\u001b[1;32m   (...)\u001b[0m\n\u001b[0;32m    257\u001b[0m ):\n\u001b[0;32m    258\u001b[0m     \u001b[38;5;66;03m# Determine if rgb\u001b[39;00m\n\u001b[1;32m--> 259\u001b[0m     data_shape \u001b[38;5;241m=\u001b[39m data\u001b[38;5;241m.\u001b[39mshape \u001b[38;5;28;01mif\u001b[39;00m \u001b[38;5;28mhasattr\u001b[39m(data, \u001b[38;5;124m'\u001b[39m\u001b[38;5;124mshape\u001b[39m\u001b[38;5;124m'\u001b[39m) \u001b[38;5;28;01melse\u001b[39;00m \u001b[43mdata\u001b[49m\u001b[43m[\u001b[49m\u001b[38;5;241;43m0\u001b[39;49m\u001b[43m]\u001b[49m\u001b[38;5;241m.\u001b[39mshape\n\u001b[0;32m    260\u001b[0m     \u001b[38;5;28;01mif\u001b[39;00m rgb \u001b[38;5;129;01mand\u001b[39;00m \u001b[38;5;129;01mnot\u001b[39;00m guess_rgb(data_shape, min_side_len\u001b[38;5;241m=\u001b[39m\u001b[38;5;241m0\u001b[39m):\n\u001b[0;32m    261\u001b[0m         \u001b[38;5;28;01mraise\u001b[39;00m \u001b[38;5;167;01mValueError\u001b[39;00m(\n\u001b[0;32m    262\u001b[0m             trans\u001b[38;5;241m.\u001b[39m_(\n\u001b[0;32m    263\u001b[0m                 \u001b[38;5;124m\"\u001b[39m\u001b[38;5;124m'\u001b[39m\u001b[38;5;124mrgb\u001b[39m\u001b[38;5;124m'\u001b[39m\u001b[38;5;124m was set to True but data does not have suitable dimensions.\u001b[39m\u001b[38;5;124m\"\u001b[39m\n\u001b[0;32m    264\u001b[0m             )\n\u001b[0;32m    265\u001b[0m         )\n",
      "\u001b[1;31mTypeError\u001b[0m: 'NoneType' object is not subscriptable"
     ]
    }
   ],
   "source": [
    "viewer = napari.Viewer()\n",
    "viewer.add_image(full_deconv, name='deconv', colormap='gray')\n",
    "napari.run()"
   ]
  },
  {
   "cell_type": "code",
   "execution_count": 119,
   "id": "896a057d-fecb-4af0-8641-c6103445b6d4",
   "metadata": {
    "scrolled": true
   },
   "outputs": [
    {
     "name": "stdout",
     "output_type": "stream",
     "text": [
      "(15, 263, 326)\n",
      "(15, 263, 326)\n",
      "(326, 263, 15)\n",
      "(178, 264, 544)\n",
      "(178, 264, 544)\n"
     ]
    }
   ],
   "source": [
    "angle=32.8\n",
    "dzdata=0.5*4\n",
    "dxdata=0.104\n",
    "\n",
    "print(image.shape)\n",
    "processing = cupy.asarray(image)\n",
    "#Swap direction of z axis Needed for 3i data\n",
    "processing = cupy.flip(processing, 0)\n",
    "print(processing.shape)\n",
    "\n",
    "# Step 1\n",
    "swapped = cupy.swapaxes(processing, 0, 2)\n",
    "print(swapped.shape)\n",
    "\n",
    "rotated = cupy.flip(swapped, 2)\n",
    "\n",
    "# Padded not needed\n",
    "# Pad to avoid cropping during transform\n",
    "#angle_rad = angle * np.pi / 180.0\n",
    "#pad_z = int(rotated.shape[0] * (1 - np.sin(angle_rad)))\n",
    "#pad_width = [(pad_z, pad_z), (0, 0), (0, 0)]\n",
    "#padded = np.pad(rotated, pad_width, mode='constant', constant_values=0)\n",
    "#print('padded',padded.shape)\n",
    "#padded=rotated\n",
    "#print('notpadded:',padded.shape)\n",
    "# Step 2\n",
    "transformed = scale_and_shear_cupy(rotated, angle, dzdata, dxdata)\n",
    "print(transformed.shape)\n",
    "\n",
    "# move to CPU memory\n",
    "deskew = cupy.asnumpy(transformed)\n",
    "print(deskew.shape)"
   ]
  },
  {
   "cell_type": "code",
   "execution_count": 120,
   "id": "084e4e86-3faa-4b98-af17-ac4e98c16cbe",
   "metadata": {},
   "outputs": [],
   "source": [
    "def crop_to_nonzero(data):\n",
    "    # Find indices of non-zero elements\n",
    "    nonzero = np.nonzero(data)\n",
    "\n",
    "    # Get bounding box\n",
    "    zmin, ymin, xmin = np.min(nonzero, axis=1)\n",
    "    zmax, ymax, xmax = np.max(nonzero, axis=1) + 1  # +1 to include endpoint\n",
    "\n",
    "    # Crop the array\n",
    "    cropped = data[zmin:zmax, ymin:ymax, xmin:xmax]\n",
    "    return cropped"
   ]
  },
  {
   "cell_type": "code",
   "execution_count": 121,
   "id": "bc041092-40bf-4840-afcf-5761bc4afe72",
   "metadata": {},
   "outputs": [
    {
     "name": "stdout",
     "output_type": "stream",
     "text": [
      "(177, 263, 543)\n"
     ]
    }
   ],
   "source": [
    "cropped = crop_to_nonzero(deskew)\n",
    "print(cropped.shape)  # Should be (4, 6, 8)"
   ]
  },
  {
   "cell_type": "code",
   "execution_count": 122,
   "id": "b21d45a2-4717-455c-8016-1cf678a9dfcc",
   "metadata": {},
   "outputs": [],
   "source": [
    "viewer = napari.Viewer()\n",
    "#viewer.add_image(image, name='image', colormap='gray')\n",
    "viewer.add_image(cupy.asnumpy(cropped), name='cropped padded', colormap='gray')\n",
    "napari.run()"
   ]
  },
  {
   "cell_type": "code",
   "execution_count": null,
   "id": "ec285405-12ce-4152-87b6-c298af4acb56",
   "metadata": {},
   "outputs": [],
   "source": []
  }
 ],
 "metadata": {
  "kernelspec": {
   "display_name": "Python 3 (ipykernel)",
   "language": "python",
   "name": "python3"
  },
  "language_info": {
   "codemirror_mode": {
    "name": "ipython",
    "version": 3
   },
   "file_extension": ".py",
   "mimetype": "text/x-python",
   "name": "python",
   "nbconvert_exporter": "python",
   "pygments_lexer": "ipython3",
   "version": "3.10.17"
  }
 },
 "nbformat": 4,
 "nbformat_minor": 5
}
