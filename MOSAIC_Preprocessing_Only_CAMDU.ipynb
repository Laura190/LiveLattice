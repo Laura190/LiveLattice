{
 "cells": [
  {
   "cell_type": "markdown",
   "id": "6a0ee980",
   "metadata": {},
   "source": [
    "### Import package"
   ]
  },
  {
   "cell_type": "code",
   "execution_count": 2,
   "id": "a565967f",
   "metadata": {},
   "outputs": [
    {
     "name": "stderr",
     "output_type": "stream",
     "text": [
      "/home/u1675160/miniconda3/envs/livelattice/lib/python3.10/site-packages/pycudadecon/_libwrap.py:45: UserWarning: Unable to find function: camcor_interface_init in libcudaDecon\n",
      "  def camcor_interface_init(  # type: ignore [empty-body]\n",
      "/home/u1675160/miniconda3/envs/livelattice/lib/python3.10/site-packages/pycudadecon/_libwrap.py:52: UserWarning: Unable to find function: camcor_interface in libcudaDecon\n",
      "  def camcor_interface(  # type: ignore [empty-body]\n"
     ]
    }
   ],
   "source": [
    "#LiveLattice\n",
    "from livelattice.processing import *\n",
    "from livelattice.pipeline import *\n",
    "import sys\n",
    "from PyQt5.QtWidgets import QFileDialog, QApplication\n",
    "from sld import SlideBook\n",
    "\n",
    "%load_ext autoreload\n",
    "%autoreload 2\n",
    "#CAMDU\n",
    "import tifffile\n",
    "import napari"
   ]
  },
  {
   "cell_type": "markdown",
   "id": "98b5158a",
   "metadata": {},
   "source": [
    "### Select the folders to process using automatic PSF detection"
   ]
  },
  {
   "cell_type": "code",
   "execution_count": 7,
   "id": "32aa7bb8",
   "metadata": {
    "scrolled": true
   },
   "outputs": [
    {
     "name": "stdout",
     "output_type": "stream",
     "text": [
      "12\n",
      "1\n",
      "(101, 64, 64)\n"
     ]
    }
   ],
   "source": [
    "#number_of_dates = 1\n",
    "\n",
    "# Linux\n",
    "#root_path = '/run/user/1000/gvfs/smb-share:server=taurus0.jslab.ucsd.edu,share=data/MOSAIC_Data/Data/'\n",
    "#output_path = '/run/user/1000/gvfs/smb-share:server=taurus0.jslab.ucsd.edu,share=processing/MOSAIC_Data/Processed_Data/'\n",
    "\n",
    "#app = QApplication(sys.argv)\n",
    "#all_data_path = []\n",
    "#for index in range(number_of_dates):\n",
    "#    data_path = QFileDialog.getExistingDirectory(None, \"Select data directory #\"+str(index+1)+\" ...\", root_path).split('/')[-1]\n",
    "#    all_data_path.append(data_path)\n",
    "\n",
    "#tif_path_list, save_path_list = collect_data_locations(root_path, all_data_path, output_path)\n",
    "\n",
    "#specified_channels = None # None for auto detection, use a list of wave numbers (string) if to manually specify, e.g. ['488', '642']\n",
    "\n",
    "#selected_psf_path = None # None for auto detection, use a list of PSF paths if to manually specify\n",
    "\n",
    "#Windows\n",
    "#image_path='E:\\LauraCooper\\MWA\\Raw-data-example-5D.sld - Raw_data_slide3_capture12-1.tif'\n",
    "#image_path='E:\\LauraCooper\\MWA\\Raw-data-example-5D.sld - Raw_data_slide3_capture12-1 every4thslice.tif'\n",
    "#psf_path='E:\\LauraCooper\\MWA\\PSFs-as-tiffs\\\\2024-09-13_PSF_488.tif'\n",
    "\n",
    "#Linux\n",
    "image_path = '/run/user/1675160/gvfs/smb-share:server=ads.warwick.ac.uk,share=shared/Shared221/CAMDU/Grants/MonashWarwickAlliance/Warwick3i/sldy-examples-from-2022/PSFs.sldy'\n",
    "psf_path = '/run/user/1675160/gvfs/smb-share:server=ads.warwick.ac.uk,share=shared/Shared221/CAMDU/Grants/MonashWarwickAlliance/Warwick3i/sldy-examples-from-2022/PSFs/PSF_CH0.tif'\n",
    "\n",
    "if image_path.lower().endswith(\".tif\"):\n",
    "    image=tifffile.imread(image_path)\n",
    "    print(image.shape)\n",
    "elif image_path.lower().endswith(\".sldy\"):\n",
    "    sld = SlideBook(image_path)\n",
    "    print(sld.number_acquisitions)\n",
    "    print(sld.images[0].num_channels)\n",
    "    image = np.squeeze(sld.images[7].data[\"ch_0\"])\n",
    "    print(image.shape)\n",
    "else:\n",
    "    print(\"Unsupported file type\")\n",
    "\n",
    "psf_stack=tifffile.imread(psf_path)\n",
    "viewer = napari.Viewer()\n",
    "viewer.add_image(image, name='image', colormap='gray')\n",
    "napari.run()"
   ]
  },
  {
   "cell_type": "markdown",
   "id": "fde20aa0",
   "metadata": {},
   "source": [
    "### Set parameters and process the movies"
   ]
  },
  {
   "cell_type": "code",
   "execution_count": 8,
   "id": "dd7603b4",
   "metadata": {},
   "outputs": [],
   "source": [
    "# select specific folders and/or frames within each folder to process\n",
    "# use None if to process all\n",
    "# index starts with 0\n",
    "folders_to_process = None\n",
    "frames_to_process = None\n",
    "\n",
    "# options\n",
    "save_mip = True # whether to create the MIP folder with individual and combined MIP images\n",
    "overwrite_file = True # whether to overwrite exisiting files, use False if continue previous run\n",
    "use_dask = False\n",
    "\n",
    "# select operations to perform\n",
    "num_decon_it = 15\n",
    "decon_zsection_size = 400 # to avoid memory overflow, may lower if deconvolution is slow\n",
    "decon_deskew_rotate = True\n",
    "no_decon = False\n",
    "decon_only = False\n",
    "\n",
    "# run the processing\n",
    "#process_data(tif_path_list, save_path_list,\n",
    "#             specified_channels, selected_psf_path,\n",
    "#             folders_to_process, frames_to_process,\n",
    "#             save_mip, overwrite_file, use_dask,\n",
    "#             num_decon_it, decon_zsection_size, \n",
    "#             decon_deskew_rotate, no_decon, decon_only)\n",
    "processing = image"
   ]
  },
  {
   "cell_type": "code",
   "execution_count": 9,
   "id": "8a07f010-2e15-4512-b01e-632dbcc4e534",
   "metadata": {},
   "outputs": [
    {
     "name": "stdout",
     "output_type": "stream",
     "text": [
      "\n",
      "Deconvolution starts for z-section 1\n",
      "callednx=64, ny=64, nz=101\n",
      "Center of mass is (15.079, 48.153, 40.368)\n",
      "Background is 107.236\n",
      "output nz=100\n",
      "X_k allocated.                 1MB   10776MB free Pinning raw.data's Host RAM.  Copy raw.data to X_k HostToDevice.  Done.  \n",
      "CC allocated.                  1MB   10774MB free\n",
      "rawGPUbuf allocated.           1MB   10772MB free\n",
      "X_kminus1 allocated.           1MB   10770MB free\n",
      "Y_k allocated.                 1MB   10768MB free\n",
      "G_kminus1 allocated.           1MB   10766MB free\n",
      "G_kminus2 allocated.           1MB   10764MB free\n",
      "fftGPUbuf allocated.           1MB   10762MB free\n",
      "Iteration  0. Cpy X_k to Y_k.Copy X_k to X_k-1. Filter1. LRcore. Filter2. Done. \n",
      "Iteration  1. Cpy X_k to Y_k.Copy X_k to X_k-1. Copy G_k-1 to G_k-2. Filter1. LRcore. Filter2. Done. \n",
      "Iteration  2. Lambda = 1.00. Copy X_k to X_k-1. Copy G_k-1 to G_k-2. Filter1. LRcore. Filter2. Done. \n",
      "Iteration  3. Lambda = 0.00. Copy X_k to X_k-1. Copy G_k-1 to G_k-2. Filter1. LRcore. Filter2. Done. \n",
      "Iteration  4. Lambda = 0.00. Copy X_k to X_k-1. Copy G_k-1 to G_k-2. Filter1. LRcore. Filter2. Done. \n",
      "Iteration  5. Lambda = 0.00. Copy X_k to X_k-1. Copy G_k-1 to G_k-2. Filter1. LRcore. Filter2. Done. \n",
      "Iteration  6. Lambda = 0.00. Copy X_k to X_k-1. Copy G_k-1 to G_k-2. Filter1. LRcore. Filter2. Done. \n",
      "Iteration  7. Lambda = 0.06. Copy X_k to X_k-1. Copy G_k-1 to G_k-2. Filter1. LRcore. Filter2. Done. \n",
      "Iteration  8. Lambda = 0.31. Copy X_k to X_k-1. Copy G_k-1 to G_k-2. Filter1. LRcore. Filter2. Done. \n",
      "Iteration  9. Lambda = 0.25. Copy X_k to X_k-1. Copy G_k-1 to G_k-2. Filter1. LRcore. Filter2. Done. \n",
      "Iteration 10. Lambda = 0.16. Copy X_k to X_k-1. Copy G_k-1 to G_k-2. Filter1. LRcore. Filter2. Done. \n",
      "Iteration 11. Lambda = 0.11. Copy X_k to X_k-1. Copy G_k-1 to G_k-2. Filter1. LRcore. Filter2. Done. \n",
      "Iteration 12. Lambda = 0.00. Copy X_k to X_k-1. Copy G_k-1 to G_k-2. Filter1. LRcore. Filter2. Done. \n",
      "Iteration 13. Lambda = 0.00. Copy X_k to X_k-1. Copy G_k-1 to G_k-2. Filter1. LRcore. Filter2. Done. \n",
      "Iteration 14. Lambda = 0.00. Copy X_k to X_k-1. Copy G_k-1 to G_k-2. Filter1. LRcore. Filter2. Done. \n"
     ]
    }
   ],
   "source": [
    "t1 = time.time()\n",
    "num_zsections = 0\n",
    "if image.shape[0] % decon_zsection_size == 0:\n",
    "    num_zsections = int(image.shape[0] / decon_zsection_size)\n",
    "else:\n",
    "    num_zsections = int(image.shape[0] / decon_zsection_size) + 1\n",
    "\n",
    "pad_size = int(0.1*decon_zsection_size)\n",
    "start_z = pad_size\n",
    "full_deconv = None\n",
    "\n",
    "for ind_z in range(num_zsections):\n",
    "      \n",
    "    section = processing[start_z-pad_size:start_z+decon_zsection_size+pad_size]\n",
    "    if section.shape[0] < pad_size:\n",
    "        break\n",
    "                \n",
    "    print('\\nDeconvolution starts for z-section', ind_z+1)\n",
    "    with TemporaryOTF(psf=psf_path, dzpsf=dzpsf, dxpsf=dxpsf, fixorigin=0, otf_bgrd=0, max_otf_size=None, skewed_decon=True) as otf:\n",
    "        with RLContext(section.shape, otf.path, dzdata, dxdata, dzpsf, dxpsf, skewed_decon=True) as ctx:\n",
    "                \n",
    "            section_deconv = rl_decon(section, background=0, n_iters=num_decon_it, skewed_decon=True)\n",
    "\n",
    "            # to avoid boundary effect due to partitioning in all x,y,z, we divide only z in blocks for large dataset\n",
    "            if start_z == pad_size:\n",
    "                full_deconv = section_deconv[:pad_size+decon_zsection_size]\n",
    "            else:\n",
    "                full_deconv = np.concatenate([full_deconv, section_deconv[pad_size:pad_size+decon_zsection_size]])\n",
    "\n",
    "            start_z += decon_zsection_size\n",
    "                    \n",
    "    #processing = full_deconv.astype('uint16')"
   ]
  },
  {
   "cell_type": "code",
   "execution_count": 10,
   "id": "b5dc5674-62be-4829-9a2a-33e86023952c",
   "metadata": {},
   "outputs": [],
   "source": [
    "viewer = napari.Viewer()\n",
    "viewer.add_image(full_deconv, name='deconv', colormap='gray')\n",
    "napari.run()"
   ]
  },
  {
   "cell_type": "code",
   "execution_count": 11,
   "id": "896a057d-fecb-4af0-8641-c6103445b6d4",
   "metadata": {
    "scrolled": true
   },
   "outputs": [
    {
     "name": "stdout",
     "output_type": "stream",
     "text": [
      "(101, 64, 64)\n",
      "(101, 64, 64)\n",
      "(64, 64, 101)\n",
      "(36, 64, 1978)\n",
      "(36, 64, 1978)\n"
     ]
    }
   ],
   "source": [
    "angle=32.8\n",
    "dzdata=0.5*4\n",
    "dxdata=0.104\n",
    "\n",
    "print(image.shape)\n",
    "processing = cupy.asarray(image)\n",
    "#Swap direction of z axis Needed for 3i data\n",
    "processing = cupy.flip(processing, 0)\n",
    "print(processing.shape)\n",
    "\n",
    "# Step 1\n",
    "swapped = cupy.swapaxes(processing, 0, 2)\n",
    "print(swapped.shape)\n",
    "\n",
    "rotated = cupy.flip(swapped, 2)\n",
    "\n",
    "# Padded not needed\n",
    "# Pad to avoid cropping during transform\n",
    "#angle_rad = angle * np.pi / 180.0\n",
    "#pad_z = int(rotated.shape[0] * (1 - np.sin(angle_rad)))\n",
    "#pad_width = [(pad_z, pad_z), (0, 0), (0, 0)]\n",
    "#padded = np.pad(rotated, pad_width, mode='constant', constant_values=0)\n",
    "#print('padded',padded.shape)\n",
    "#padded=rotated\n",
    "#print('notpadded:',padded.shape)\n",
    "# Step 2\n",
    "transformed = scale_and_shear_cupy(rotated, angle, dzdata, dxdata)\n",
    "print(transformed.shape)\n",
    "\n",
    "# move to CPU memory\n",
    "deskew = cupy.asnumpy(transformed)\n",
    "print(deskew.shape)"
   ]
  },
  {
   "cell_type": "code",
   "execution_count": 12,
   "id": "084e4e86-3faa-4b98-af17-ac4e98c16cbe",
   "metadata": {},
   "outputs": [],
   "source": [
    "def crop_to_nonzero(data):\n",
    "    # Find indices of non-zero elements\n",
    "    nonzero = np.nonzero(data)\n",
    "\n",
    "    # Get bounding box\n",
    "    zmin, ymin, xmin = np.min(nonzero, axis=1)\n",
    "    zmax, ymax, xmax = np.max(nonzero, axis=1) + 1  # +1 to include endpoint\n",
    "\n",
    "    # Crop the array\n",
    "    cropped = data[zmin:zmax, ymin:ymax, xmin:xmax]\n",
    "    return cropped"
   ]
  },
  {
   "cell_type": "code",
   "execution_count": 13,
   "id": "bc041092-40bf-4840-afcf-5761bc4afe72",
   "metadata": {},
   "outputs": [
    {
     "name": "stdout",
     "output_type": "stream",
     "text": [
      "(35, 64, 1976)\n"
     ]
    }
   ],
   "source": [
    "cropped = crop_to_nonzero(deskew)\n",
    "print(cropped.shape)  # Should be (4, 6, 8)"
   ]
  },
  {
   "cell_type": "code",
   "execution_count": 14,
   "id": "b21d45a2-4717-455c-8016-1cf678a9dfcc",
   "metadata": {},
   "outputs": [
    {
     "name": "stderr",
     "output_type": "stream",
     "text": [
      "WARNING: Error drawing visual <Volume at 0x7990ec1472b0>\n",
      "Traceback (most recent call last):\n",
      "  File \"/home/u1675160/miniconda3/envs/livelattice/lib/python3.10/site-packages/vispy/app/backends/_qt.py\", line 928, in paintGL\n",
      "    self._vispy_canvas.events.draw(region=None)\n",
      "  File \"/home/u1675160/miniconda3/envs/livelattice/lib/python3.10/site-packages/vispy/util/event.py\", line 453, in __call__\n",
      "    self._invoke_callback(cb, event)\n",
      "  File \"/home/u1675160/miniconda3/envs/livelattice/lib/python3.10/site-packages/vispy/util/event.py\", line 471, in _invoke_callback\n",
      "    _handle_exception(self.ignore_callback_errors,\n",
      "  File \"/home/u1675160/miniconda3/envs/livelattice/lib/python3.10/site-packages/vispy/util/event.py\", line 469, in _invoke_callback\n",
      "    cb(event)\n",
      "  File \"/home/u1675160/miniconda3/envs/livelattice/lib/python3.10/site-packages/vispy/scene/canvas.py\", line 219, in on_draw\n",
      "    self._draw_scene()\n",
      "  File \"/home/u1675160/miniconda3/envs/livelattice/lib/python3.10/site-packages/vispy/scene/canvas.py\", line 278, in _draw_scene\n",
      "    self.draw_visual(self.scene)\n",
      "  File \"/home/u1675160/miniconda3/envs/livelattice/lib/python3.10/site-packages/vispy/scene/canvas.py\", line 316, in draw_visual\n",
      "    node.draw()\n",
      "  File \"/home/u1675160/miniconda3/envs/livelattice/lib/python3.10/site-packages/vispy/scene/visuals.py\", line 106, in draw\n",
      "    self._visual_superclass.draw(self)\n",
      "  File \"/home/u1675160/miniconda3/envs/livelattice/lib/python3.10/site-packages/vispy/visuals/visual.py\", line 514, in draw\n",
      "    self._program.draw(self._vshare.draw_mode,\n",
      "  File \"/home/u1675160/miniconda3/envs/livelattice/lib/python3.10/site-packages/vispy/visuals/shaders/program.py\", line 102, in draw\n",
      "    Program.draw(self, *args, **kwargs)\n",
      "  File \"/home/u1675160/miniconda3/envs/livelattice/lib/python3.10/site-packages/vispy/gloo/program.py\", line 543, in draw\n",
      "    canvas.context.flush_commands()\n",
      "  File \"/home/u1675160/miniconda3/envs/livelattice/lib/python3.10/site-packages/vispy/gloo/context.py\", line 172, in flush_commands\n",
      "    self.glir.flush(self.shared.parser)\n",
      "  File \"/home/u1675160/miniconda3/envs/livelattice/lib/python3.10/site-packages/vispy/gloo/glir.py\", line 584, in flush\n",
      "    self._shared.flush(parser)\n",
      "  File \"/home/u1675160/miniconda3/envs/livelattice/lib/python3.10/site-packages/vispy/gloo/glir.py\", line 506, in flush\n",
      "    parser.parse(self._filter(self.clear(), parser))\n",
      "  File \"/home/u1675160/miniconda3/envs/livelattice/lib/python3.10/site-packages/vispy/gloo/glir.py\", line 824, in parse\n",
      "    self._parse(command)\n",
      "  File \"/home/u1675160/miniconda3/envs/livelattice/lib/python3.10/site-packages/vispy/gloo/glir.py\", line 786, in _parse\n",
      "    ob.draw(*args)\n",
      "  File \"/home/u1675160/miniconda3/envs/livelattice/lib/python3.10/site-packages/vispy/gloo/glir.py\", line 1333, in draw\n",
      "    gl.check_error('Check before draw')\n",
      "  File \"/home/u1675160/miniconda3/envs/livelattice/lib/python3.10/site-packages/vispy/gloo/gl/__init__.py\", line 204, in check_error\n",
      "    raise err\n",
      "RuntimeError: OpenGL got errors (Check before draw): GL_INVALID_OPERATION\n",
      "WARNING: Error drawing visual <Volume at 0x7990ec1472b0>\n",
      "Traceback (most recent call last):\n",
      "  File \"/home/u1675160/miniconda3/envs/livelattice/lib/python3.10/site-packages/vispy/app/backends/_qt.py\", line 928, in paintGL\n",
      "    self._vispy_canvas.events.draw(region=None)\n",
      "  File \"/home/u1675160/miniconda3/envs/livelattice/lib/python3.10/site-packages/vispy/util/event.py\", line 453, in __call__\n",
      "    self._invoke_callback(cb, event)\n",
      "  File \"/home/u1675160/miniconda3/envs/livelattice/lib/python3.10/site-packages/vispy/util/event.py\", line 471, in _invoke_callback\n",
      "    _handle_exception(self.ignore_callback_errors,\n",
      "  File \"/home/u1675160/miniconda3/envs/livelattice/lib/python3.10/site-packages/vispy/util/event.py\", line 469, in _invoke_callback\n",
      "    cb(event)\n",
      "  File \"/home/u1675160/miniconda3/envs/livelattice/lib/python3.10/site-packages/vispy/scene/canvas.py\", line 219, in on_draw\n",
      "    self._draw_scene()\n",
      "  File \"/home/u1675160/miniconda3/envs/livelattice/lib/python3.10/site-packages/vispy/scene/canvas.py\", line 278, in _draw_scene\n",
      "    self.draw_visual(self.scene)\n",
      "  File \"/home/u1675160/miniconda3/envs/livelattice/lib/python3.10/site-packages/vispy/scene/canvas.py\", line 316, in draw_visual\n",
      "    node.draw()\n",
      "  File \"/home/u1675160/miniconda3/envs/livelattice/lib/python3.10/site-packages/vispy/scene/visuals.py\", line 106, in draw\n",
      "    self._visual_superclass.draw(self)\n",
      "  File \"/home/u1675160/miniconda3/envs/livelattice/lib/python3.10/site-packages/vispy/visuals/visual.py\", line 514, in draw\n",
      "    self._program.draw(self._vshare.draw_mode,\n",
      "  File \"/home/u1675160/miniconda3/envs/livelattice/lib/python3.10/site-packages/vispy/visuals/shaders/program.py\", line 102, in draw\n",
      "    Program.draw(self, *args, **kwargs)\n",
      "  File \"/home/u1675160/miniconda3/envs/livelattice/lib/python3.10/site-packages/vispy/gloo/program.py\", line 543, in draw\n",
      "    canvas.context.flush_commands()\n",
      "  File \"/home/u1675160/miniconda3/envs/livelattice/lib/python3.10/site-packages/vispy/gloo/context.py\", line 172, in flush_commands\n",
      "    self.glir.flush(self.shared.parser)\n",
      "  File \"/home/u1675160/miniconda3/envs/livelattice/lib/python3.10/site-packages/vispy/gloo/glir.py\", line 584, in flush\n",
      "    self._shared.flush(parser)\n",
      "  File \"/home/u1675160/miniconda3/envs/livelattice/lib/python3.10/site-packages/vispy/gloo/glir.py\", line 506, in flush\n",
      "    parser.parse(self._filter(self.clear(), parser))\n",
      "  File \"/home/u1675160/miniconda3/envs/livelattice/lib/python3.10/site-packages/vispy/gloo/glir.py\", line 824, in parse\n",
      "    self._parse(command)\n",
      "  File \"/home/u1675160/miniconda3/envs/livelattice/lib/python3.10/site-packages/vispy/gloo/glir.py\", line 786, in _parse\n",
      "    ob.draw(*args)\n",
      "  File \"/home/u1675160/miniconda3/envs/livelattice/lib/python3.10/site-packages/vispy/gloo/glir.py\", line 1333, in draw\n",
      "    gl.check_error('Check before draw')\n",
      "  File \"/home/u1675160/miniconda3/envs/livelattice/lib/python3.10/site-packages/vispy/gloo/gl/__init__.py\", line 204, in check_error\n",
      "    raise err\n",
      "RuntimeError: OpenGL got errors (Check before draw): GL_INVALID_OPERATION\n",
      "WARNING: Error drawing visual <Volume at 0x7990ec1472b0>\n",
      "Traceback (most recent call last):\n",
      "  File \"/home/u1675160/miniconda3/envs/livelattice/lib/python3.10/site-packages/vispy/app/backends/_qt.py\", line 928, in paintGL\n",
      "    self._vispy_canvas.events.draw(region=None)\n",
      "  File \"/home/u1675160/miniconda3/envs/livelattice/lib/python3.10/site-packages/vispy/util/event.py\", line 453, in __call__\n",
      "    self._invoke_callback(cb, event)\n",
      "  File \"/home/u1675160/miniconda3/envs/livelattice/lib/python3.10/site-packages/vispy/util/event.py\", line 471, in _invoke_callback\n",
      "    _handle_exception(self.ignore_callback_errors,\n",
      "  File \"/home/u1675160/miniconda3/envs/livelattice/lib/python3.10/site-packages/vispy/util/event.py\", line 469, in _invoke_callback\n",
      "    cb(event)\n",
      "  File \"/home/u1675160/miniconda3/envs/livelattice/lib/python3.10/site-packages/vispy/scene/canvas.py\", line 219, in on_draw\n",
      "    self._draw_scene()\n",
      "  File \"/home/u1675160/miniconda3/envs/livelattice/lib/python3.10/site-packages/vispy/scene/canvas.py\", line 278, in _draw_scene\n",
      "    self.draw_visual(self.scene)\n",
      "  File \"/home/u1675160/miniconda3/envs/livelattice/lib/python3.10/site-packages/vispy/scene/canvas.py\", line 316, in draw_visual\n",
      "    node.draw()\n",
      "  File \"/home/u1675160/miniconda3/envs/livelattice/lib/python3.10/site-packages/vispy/scene/visuals.py\", line 106, in draw\n",
      "    self._visual_superclass.draw(self)\n",
      "  File \"/home/u1675160/miniconda3/envs/livelattice/lib/python3.10/site-packages/vispy/visuals/visual.py\", line 514, in draw\n",
      "    self._program.draw(self._vshare.draw_mode,\n",
      "  File \"/home/u1675160/miniconda3/envs/livelattice/lib/python3.10/site-packages/vispy/visuals/shaders/program.py\", line 102, in draw\n",
      "    Program.draw(self, *args, **kwargs)\n",
      "  File \"/home/u1675160/miniconda3/envs/livelattice/lib/python3.10/site-packages/vispy/gloo/program.py\", line 543, in draw\n",
      "    canvas.context.flush_commands()\n",
      "  File \"/home/u1675160/miniconda3/envs/livelattice/lib/python3.10/site-packages/vispy/gloo/context.py\", line 172, in flush_commands\n",
      "    self.glir.flush(self.shared.parser)\n",
      "  File \"/home/u1675160/miniconda3/envs/livelattice/lib/python3.10/site-packages/vispy/gloo/glir.py\", line 584, in flush\n",
      "    self._shared.flush(parser)\n",
      "  File \"/home/u1675160/miniconda3/envs/livelattice/lib/python3.10/site-packages/vispy/gloo/glir.py\", line 506, in flush\n",
      "    parser.parse(self._filter(self.clear(), parser))\n",
      "  File \"/home/u1675160/miniconda3/envs/livelattice/lib/python3.10/site-packages/vispy/gloo/glir.py\", line 824, in parse\n",
      "    self._parse(command)\n",
      "  File \"/home/u1675160/miniconda3/envs/livelattice/lib/python3.10/site-packages/vispy/gloo/glir.py\", line 786, in _parse\n",
      "    ob.draw(*args)\n",
      "  File \"/home/u1675160/miniconda3/envs/livelattice/lib/python3.10/site-packages/vispy/gloo/glir.py\", line 1333, in draw\n",
      "    gl.check_error('Check before draw')\n",
      "  File \"/home/u1675160/miniconda3/envs/livelattice/lib/python3.10/site-packages/vispy/gloo/gl/__init__.py\", line 204, in check_error\n",
      "    raise err\n",
      "RuntimeError: OpenGL got errors (Check before draw): GL_INVALID_OPERATION\n"
     ]
    }
   ],
   "source": [
    "viewer = napari.Viewer()\n",
    "#viewer.add_image(image, name='image', colormap='gray')\n",
    "viewer.add_image(cupy.asnumpy(cropped), name='cropped padded', colormap='gray')\n",
    "napari.run()"
   ]
  },
  {
   "cell_type": "code",
   "execution_count": null,
   "id": "ec285405-12ce-4152-87b6-c298af4acb56",
   "metadata": {},
   "outputs": [],
   "source": []
  }
 ],
 "metadata": {
  "kernelspec": {
   "display_name": "Python 3 (ipykernel)",
   "language": "python",
   "name": "python3"
  },
  "language_info": {
   "codemirror_mode": {
    "name": "ipython",
    "version": 3
   },
   "file_extension": ".py",
   "mimetype": "text/x-python",
   "name": "python",
   "nbconvert_exporter": "python",
   "pygments_lexer": "ipython3",
   "version": "3.10.9"
  }
 },
 "nbformat": 4,
 "nbformat_minor": 5
}
